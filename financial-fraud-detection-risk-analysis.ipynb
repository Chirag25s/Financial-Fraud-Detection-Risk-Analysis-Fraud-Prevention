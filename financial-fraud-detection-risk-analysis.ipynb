{
 "cells": [
  {
   "cell_type": "code",
   "execution_count": 1,
   "id": "f3baff2d",
   "metadata": {
    "execution": {
     "iopub.execute_input": "2025-02-19T09:19:41.887824Z",
     "iopub.status.busy": "2025-02-19T09:19:41.887450Z",
     "iopub.status.idle": "2025-02-19T09:19:45.211952Z",
     "shell.execute_reply": "2025-02-19T09:19:45.210571Z"
    },
    "papermill": {
     "duration": 3.33579,
     "end_time": "2025-02-19T09:19:45.214024",
     "exception": false,
     "start_time": "2025-02-19T09:19:41.878234",
     "status": "completed"
    },
    "tags": []
   },
   "outputs": [],
   "source": [
    "# importing the library\n",
    "\n",
    "import pandas as pd\n",
    "import numpy as np\n",
    "import matplotlib.pyplot as plt\n",
    "import seaborn as sns\n",
    "from sklearn.preprocessing import LabelEncoder, StandardScaler\n",
    "from sklearn.linear_model import LogisticRegression\n",
    "from sklearn.svm import SVC\n",
    "from sklearn.tree import DecisionTreeClassifier\n",
    "from sklearn.model_selection import train_test_split\n",
    "from sklearn.neural_network import MLPClassifier\n",
    "from sklearn.metrics import accuracy_score, recall_score, precision_score, classification_report, confusion_matrix"
   ]
  },
  {
   "cell_type": "code",
   "execution_count": 2,
   "id": "5253101a",
   "metadata": {
    "execution": {
     "iopub.execute_input": "2025-02-19T09:19:45.231124Z",
     "iopub.status.busy": "2025-02-19T09:19:45.230505Z",
     "iopub.status.idle": "2025-02-19T09:20:07.167690Z",
     "shell.execute_reply": "2025-02-19T09:20:07.166621Z"
    },
    "papermill": {
     "duration": 21.947884,
     "end_time": "2025-02-19T09:20:07.169782",
     "exception": false,
     "start_time": "2025-02-19T09:19:45.221898",
     "status": "completed"
    },
    "tags": []
   },
   "outputs": [],
   "source": [
    "# reading the dataset\n",
    "\n",
    "df = pd.read_csv(\"/kaggle/input/financial-fraud-detection-dataset/Synthetic_Financial_datasets_log.csv\")"
   ]
  },
  {
   "cell_type": "markdown",
   "id": "cb974620",
   "metadata": {
    "papermill": {
     "duration": 0.006704,
     "end_time": "2025-02-19T09:20:07.183876",
     "exception": false,
     "start_time": "2025-02-19T09:20:07.177172",
     "status": "completed"
    },
    "tags": []
   },
   "source": [
    "# Initial Exploration"
   ]
  },
  {
   "cell_type": "code",
   "execution_count": 3,
   "id": "5dcfe38b",
   "metadata": {
    "execution": {
     "iopub.execute_input": "2025-02-19T09:20:07.199185Z",
     "iopub.status.busy": "2025-02-19T09:20:07.198796Z",
     "iopub.status.idle": "2025-02-19T09:20:07.231187Z",
     "shell.execute_reply": "2025-02-19T09:20:07.230162Z"
    },
    "papermill": {
     "duration": 0.041855,
     "end_time": "2025-02-19T09:20:07.232719",
     "exception": false,
     "start_time": "2025-02-19T09:20:07.190864",
     "status": "completed"
    },
    "tags": []
   },
   "outputs": [
    {
     "data": {
      "text/html": [
       "<div>\n",
       "<style scoped>\n",
       "    .dataframe tbody tr th:only-of-type {\n",
       "        vertical-align: middle;\n",
       "    }\n",
       "\n",
       "    .dataframe tbody tr th {\n",
       "        vertical-align: top;\n",
       "    }\n",
       "\n",
       "    .dataframe thead th {\n",
       "        text-align: right;\n",
       "    }\n",
       "</style>\n",
       "<table border=\"1\" class=\"dataframe\">\n",
       "  <thead>\n",
       "    <tr style=\"text-align: right;\">\n",
       "      <th></th>\n",
       "      <th>step</th>\n",
       "      <th>type</th>\n",
       "      <th>amount</th>\n",
       "      <th>nameOrig</th>\n",
       "      <th>oldbalanceOrg</th>\n",
       "      <th>newbalanceOrig</th>\n",
       "      <th>nameDest</th>\n",
       "      <th>oldbalanceDest</th>\n",
       "      <th>newbalanceDest</th>\n",
       "      <th>isFraud</th>\n",
       "      <th>isFlaggedFraud</th>\n",
       "    </tr>\n",
       "  </thead>\n",
       "  <tbody>\n",
       "    <tr>\n",
       "      <th>0</th>\n",
       "      <td>1</td>\n",
       "      <td>PAYMENT</td>\n",
       "      <td>9839.64</td>\n",
       "      <td>C1231006815</td>\n",
       "      <td>170136.0</td>\n",
       "      <td>160296.36</td>\n",
       "      <td>M1979787155</td>\n",
       "      <td>0.0</td>\n",
       "      <td>0.0</td>\n",
       "      <td>0</td>\n",
       "      <td>0</td>\n",
       "    </tr>\n",
       "    <tr>\n",
       "      <th>1</th>\n",
       "      <td>1</td>\n",
       "      <td>PAYMENT</td>\n",
       "      <td>1864.28</td>\n",
       "      <td>C1666544295</td>\n",
       "      <td>21249.0</td>\n",
       "      <td>19384.72</td>\n",
       "      <td>M2044282225</td>\n",
       "      <td>0.0</td>\n",
       "      <td>0.0</td>\n",
       "      <td>0</td>\n",
       "      <td>0</td>\n",
       "    </tr>\n",
       "    <tr>\n",
       "      <th>2</th>\n",
       "      <td>1</td>\n",
       "      <td>TRANSFER</td>\n",
       "      <td>181.00</td>\n",
       "      <td>C1305486145</td>\n",
       "      <td>181.0</td>\n",
       "      <td>0.00</td>\n",
       "      <td>C553264065</td>\n",
       "      <td>0.0</td>\n",
       "      <td>0.0</td>\n",
       "      <td>1</td>\n",
       "      <td>0</td>\n",
       "    </tr>\n",
       "    <tr>\n",
       "      <th>3</th>\n",
       "      <td>1</td>\n",
       "      <td>CASH_OUT</td>\n",
       "      <td>181.00</td>\n",
       "      <td>C840083671</td>\n",
       "      <td>181.0</td>\n",
       "      <td>0.00</td>\n",
       "      <td>C38997010</td>\n",
       "      <td>21182.0</td>\n",
       "      <td>0.0</td>\n",
       "      <td>1</td>\n",
       "      <td>0</td>\n",
       "    </tr>\n",
       "    <tr>\n",
       "      <th>4</th>\n",
       "      <td>1</td>\n",
       "      <td>PAYMENT</td>\n",
       "      <td>11668.14</td>\n",
       "      <td>C2048537720</td>\n",
       "      <td>41554.0</td>\n",
       "      <td>29885.86</td>\n",
       "      <td>M1230701703</td>\n",
       "      <td>0.0</td>\n",
       "      <td>0.0</td>\n",
       "      <td>0</td>\n",
       "      <td>0</td>\n",
       "    </tr>\n",
       "  </tbody>\n",
       "</table>\n",
       "</div>"
      ],
      "text/plain": [
       "   step      type    amount     nameOrig  oldbalanceOrg  newbalanceOrig  \\\n",
       "0     1   PAYMENT   9839.64  C1231006815       170136.0       160296.36   \n",
       "1     1   PAYMENT   1864.28  C1666544295        21249.0        19384.72   \n",
       "2     1  TRANSFER    181.00  C1305486145          181.0            0.00   \n",
       "3     1  CASH_OUT    181.00   C840083671          181.0            0.00   \n",
       "4     1   PAYMENT  11668.14  C2048537720        41554.0        29885.86   \n",
       "\n",
       "      nameDest  oldbalanceDest  newbalanceDest  isFraud  isFlaggedFraud  \n",
       "0  M1979787155             0.0             0.0        0               0  \n",
       "1  M2044282225             0.0             0.0        0               0  \n",
       "2   C553264065             0.0             0.0        1               0  \n",
       "3    C38997010         21182.0             0.0        1               0  \n",
       "4  M1230701703             0.0             0.0        0               0  "
      ]
     },
     "execution_count": 3,
     "metadata": {},
     "output_type": "execute_result"
    }
   ],
   "source": [
    "df.head()"
   ]
  },
  {
   "cell_type": "code",
   "execution_count": 4,
   "id": "54b54344",
   "metadata": {
    "execution": {
     "iopub.execute_input": "2025-02-19T09:20:07.248468Z",
     "iopub.status.busy": "2025-02-19T09:20:07.248069Z",
     "iopub.status.idle": "2025-02-19T09:20:07.275540Z",
     "shell.execute_reply": "2025-02-19T09:20:07.274072Z"
    },
    "papermill": {
     "duration": 0.03711,
     "end_time": "2025-02-19T09:20:07.277160",
     "exception": false,
     "start_time": "2025-02-19T09:20:07.240050",
     "status": "completed"
    },
    "tags": []
   },
   "outputs": [
    {
     "name": "stdout",
     "output_type": "stream",
     "text": [
      "<class 'pandas.core.frame.DataFrame'>\n",
      "RangeIndex: 6362620 entries, 0 to 6362619\n",
      "Data columns (total 11 columns):\n",
      " #   Column          Dtype  \n",
      "---  ------          -----  \n",
      " 0   step            int64  \n",
      " 1   type            object \n",
      " 2   amount          float64\n",
      " 3   nameOrig        object \n",
      " 4   oldbalanceOrg   float64\n",
      " 5   newbalanceOrig  float64\n",
      " 6   nameDest        object \n",
      " 7   oldbalanceDest  float64\n",
      " 8   newbalanceDest  float64\n",
      " 9   isFraud         int64  \n",
      " 10  isFlaggedFraud  int64  \n",
      "dtypes: float64(5), int64(3), object(3)\n",
      "memory usage: 534.0+ MB\n"
     ]
    }
   ],
   "source": [
    "df.info()"
   ]
  },
  {
   "cell_type": "code",
   "execution_count": 5,
   "id": "49240a70",
   "metadata": {
    "execution": {
     "iopub.execute_input": "2025-02-19T09:20:07.294146Z",
     "iopub.status.busy": "2025-02-19T09:20:07.293789Z",
     "iopub.status.idle": "2025-02-19T09:20:07.299493Z",
     "shell.execute_reply": "2025-02-19T09:20:07.298594Z"
    },
    "papermill": {
     "duration": 0.016014,
     "end_time": "2025-02-19T09:20:07.300902",
     "exception": false,
     "start_time": "2025-02-19T09:20:07.284888",
     "status": "completed"
    },
    "tags": []
   },
   "outputs": [
    {
     "data": {
      "text/plain": [
       "(6362620, 11)"
      ]
     },
     "execution_count": 5,
     "metadata": {},
     "output_type": "execute_result"
    }
   ],
   "source": [
    "df.shape"
   ]
  },
  {
   "cell_type": "code",
   "execution_count": 6,
   "id": "f5a0961a",
   "metadata": {
    "execution": {
     "iopub.execute_input": "2025-02-19T09:20:07.317025Z",
     "iopub.status.busy": "2025-02-19T09:20:07.316679Z",
     "iopub.status.idle": "2025-02-19T09:20:09.350367Z",
     "shell.execute_reply": "2025-02-19T09:20:09.349148Z"
    },
    "papermill": {
     "duration": 2.043824,
     "end_time": "2025-02-19T09:20:09.352213",
     "exception": false,
     "start_time": "2025-02-19T09:20:07.308389",
     "status": "completed"
    },
    "tags": []
   },
   "outputs": [
    {
     "data": {
      "text/html": [
       "<div>\n",
       "<style scoped>\n",
       "    .dataframe tbody tr th:only-of-type {\n",
       "        vertical-align: middle;\n",
       "    }\n",
       "\n",
       "    .dataframe tbody tr th {\n",
       "        vertical-align: top;\n",
       "    }\n",
       "\n",
       "    .dataframe thead th {\n",
       "        text-align: right;\n",
       "    }\n",
       "</style>\n",
       "<table border=\"1\" class=\"dataframe\">\n",
       "  <thead>\n",
       "    <tr style=\"text-align: right;\">\n",
       "      <th></th>\n",
       "      <th>step</th>\n",
       "      <th>amount</th>\n",
       "      <th>oldbalanceOrg</th>\n",
       "      <th>newbalanceOrig</th>\n",
       "      <th>oldbalanceDest</th>\n",
       "      <th>newbalanceDest</th>\n",
       "      <th>isFraud</th>\n",
       "      <th>isFlaggedFraud</th>\n",
       "    </tr>\n",
       "  </thead>\n",
       "  <tbody>\n",
       "    <tr>\n",
       "      <th>count</th>\n",
       "      <td>6.362620e+06</td>\n",
       "      <td>6.362620e+06</td>\n",
       "      <td>6.362620e+06</td>\n",
       "      <td>6.362620e+06</td>\n",
       "      <td>6.362620e+06</td>\n",
       "      <td>6.362620e+06</td>\n",
       "      <td>6.362620e+06</td>\n",
       "      <td>6.362620e+06</td>\n",
       "    </tr>\n",
       "    <tr>\n",
       "      <th>mean</th>\n",
       "      <td>2.433972e+02</td>\n",
       "      <td>1.798619e+05</td>\n",
       "      <td>8.338831e+05</td>\n",
       "      <td>8.551137e+05</td>\n",
       "      <td>1.100702e+06</td>\n",
       "      <td>1.224996e+06</td>\n",
       "      <td>1.290820e-03</td>\n",
       "      <td>2.514687e-06</td>\n",
       "    </tr>\n",
       "    <tr>\n",
       "      <th>std</th>\n",
       "      <td>1.423320e+02</td>\n",
       "      <td>6.038582e+05</td>\n",
       "      <td>2.888243e+06</td>\n",
       "      <td>2.924049e+06</td>\n",
       "      <td>3.399180e+06</td>\n",
       "      <td>3.674129e+06</td>\n",
       "      <td>3.590480e-02</td>\n",
       "      <td>1.585775e-03</td>\n",
       "    </tr>\n",
       "    <tr>\n",
       "      <th>min</th>\n",
       "      <td>1.000000e+00</td>\n",
       "      <td>0.000000e+00</td>\n",
       "      <td>0.000000e+00</td>\n",
       "      <td>0.000000e+00</td>\n",
       "      <td>0.000000e+00</td>\n",
       "      <td>0.000000e+00</td>\n",
       "      <td>0.000000e+00</td>\n",
       "      <td>0.000000e+00</td>\n",
       "    </tr>\n",
       "    <tr>\n",
       "      <th>25%</th>\n",
       "      <td>1.560000e+02</td>\n",
       "      <td>1.338957e+04</td>\n",
       "      <td>0.000000e+00</td>\n",
       "      <td>0.000000e+00</td>\n",
       "      <td>0.000000e+00</td>\n",
       "      <td>0.000000e+00</td>\n",
       "      <td>0.000000e+00</td>\n",
       "      <td>0.000000e+00</td>\n",
       "    </tr>\n",
       "    <tr>\n",
       "      <th>50%</th>\n",
       "      <td>2.390000e+02</td>\n",
       "      <td>7.487194e+04</td>\n",
       "      <td>1.420800e+04</td>\n",
       "      <td>0.000000e+00</td>\n",
       "      <td>1.327057e+05</td>\n",
       "      <td>2.146614e+05</td>\n",
       "      <td>0.000000e+00</td>\n",
       "      <td>0.000000e+00</td>\n",
       "    </tr>\n",
       "    <tr>\n",
       "      <th>75%</th>\n",
       "      <td>3.350000e+02</td>\n",
       "      <td>2.087215e+05</td>\n",
       "      <td>1.073152e+05</td>\n",
       "      <td>1.442584e+05</td>\n",
       "      <td>9.430367e+05</td>\n",
       "      <td>1.111909e+06</td>\n",
       "      <td>0.000000e+00</td>\n",
       "      <td>0.000000e+00</td>\n",
       "    </tr>\n",
       "    <tr>\n",
       "      <th>max</th>\n",
       "      <td>7.430000e+02</td>\n",
       "      <td>9.244552e+07</td>\n",
       "      <td>5.958504e+07</td>\n",
       "      <td>4.958504e+07</td>\n",
       "      <td>3.560159e+08</td>\n",
       "      <td>3.561793e+08</td>\n",
       "      <td>1.000000e+00</td>\n",
       "      <td>1.000000e+00</td>\n",
       "    </tr>\n",
       "  </tbody>\n",
       "</table>\n",
       "</div>"
      ],
      "text/plain": [
       "               step        amount  oldbalanceOrg  newbalanceOrig  \\\n",
       "count  6.362620e+06  6.362620e+06   6.362620e+06    6.362620e+06   \n",
       "mean   2.433972e+02  1.798619e+05   8.338831e+05    8.551137e+05   \n",
       "std    1.423320e+02  6.038582e+05   2.888243e+06    2.924049e+06   \n",
       "min    1.000000e+00  0.000000e+00   0.000000e+00    0.000000e+00   \n",
       "25%    1.560000e+02  1.338957e+04   0.000000e+00    0.000000e+00   \n",
       "50%    2.390000e+02  7.487194e+04   1.420800e+04    0.000000e+00   \n",
       "75%    3.350000e+02  2.087215e+05   1.073152e+05    1.442584e+05   \n",
       "max    7.430000e+02  9.244552e+07   5.958504e+07    4.958504e+07   \n",
       "\n",
       "       oldbalanceDest  newbalanceDest       isFraud  isFlaggedFraud  \n",
       "count    6.362620e+06    6.362620e+06  6.362620e+06    6.362620e+06  \n",
       "mean     1.100702e+06    1.224996e+06  1.290820e-03    2.514687e-06  \n",
       "std      3.399180e+06    3.674129e+06  3.590480e-02    1.585775e-03  \n",
       "min      0.000000e+00    0.000000e+00  0.000000e+00    0.000000e+00  \n",
       "25%      0.000000e+00    0.000000e+00  0.000000e+00    0.000000e+00  \n",
       "50%      1.327057e+05    2.146614e+05  0.000000e+00    0.000000e+00  \n",
       "75%      9.430367e+05    1.111909e+06  0.000000e+00    0.000000e+00  \n",
       "max      3.560159e+08    3.561793e+08  1.000000e+00    1.000000e+00  "
      ]
     },
     "execution_count": 6,
     "metadata": {},
     "output_type": "execute_result"
    }
   ],
   "source": [
    "df.describe()"
   ]
  },
  {
   "cell_type": "code",
   "execution_count": 7,
   "id": "a57bad31",
   "metadata": {
    "execution": {
     "iopub.execute_input": "2025-02-19T09:20:09.369530Z",
     "iopub.status.busy": "2025-02-19T09:20:09.369126Z",
     "iopub.status.idle": "2025-02-19T09:20:10.453225Z",
     "shell.execute_reply": "2025-02-19T09:20:10.452235Z"
    },
    "papermill": {
     "duration": 1.094807,
     "end_time": "2025-02-19T09:20:10.455157",
     "exception": false,
     "start_time": "2025-02-19T09:20:09.360350",
     "status": "completed"
    },
    "tags": []
   },
   "outputs": [
    {
     "data": {
      "text/plain": [
       "step              0\n",
       "type              0\n",
       "amount            0\n",
       "nameOrig          0\n",
       "oldbalanceOrg     0\n",
       "newbalanceOrig    0\n",
       "nameDest          0\n",
       "oldbalanceDest    0\n",
       "newbalanceDest    0\n",
       "isFraud           0\n",
       "isFlaggedFraud    0\n",
       "dtype: int64"
      ]
     },
     "execution_count": 7,
     "metadata": {},
     "output_type": "execute_result"
    }
   ],
   "source": [
    "# checking for missing values\n",
    "\n",
    "df.isna().sum()"
   ]
  },
  {
   "cell_type": "code",
   "execution_count": 8,
   "id": "671d81e3",
   "metadata": {
    "execution": {
     "iopub.execute_input": "2025-02-19T09:20:10.473092Z",
     "iopub.status.busy": "2025-02-19T09:20:10.472746Z",
     "iopub.status.idle": "2025-02-19T09:20:10.518352Z",
     "shell.execute_reply": "2025-02-19T09:20:10.516893Z"
    },
    "papermill": {
     "duration": 0.057141,
     "end_time": "2025-02-19T09:20:10.520581",
     "exception": false,
     "start_time": "2025-02-19T09:20:10.463440",
     "status": "completed"
    },
    "tags": []
   },
   "outputs": [
    {
     "data": {
      "text/plain": [
       "isFraud\n",
       "0    6354407\n",
       "1       8213\n",
       "Name: count, dtype: int64"
      ]
     },
     "execution_count": 8,
     "metadata": {},
     "output_type": "execute_result"
    }
   ],
   "source": [
    "# checking for fraud count\n",
    "\n",
    "df['isFraud'].value_counts()"
   ]
  },
  {
   "cell_type": "markdown",
   "id": "308a567f",
   "metadata": {
    "papermill": {
     "duration": 0.008022,
     "end_time": "2025-02-19T09:20:10.536980",
     "exception": false,
     "start_time": "2025-02-19T09:20:10.528958",
     "status": "completed"
    },
    "tags": []
   },
   "source": [
    "# Exploratory Data Analysis"
   ]
  },
  {
   "cell_type": "code",
   "execution_count": 9,
   "id": "d4c4598f",
   "metadata": {
    "execution": {
     "iopub.execute_input": "2025-02-19T09:20:10.554788Z",
     "iopub.status.busy": "2025-02-19T09:20:10.554413Z",
     "iopub.status.idle": "2025-02-19T09:20:10.569341Z",
     "shell.execute_reply": "2025-02-19T09:20:10.568240Z"
    },
    "papermill": {
     "duration": 0.025866,
     "end_time": "2025-02-19T09:20:10.571063",
     "exception": false,
     "start_time": "2025-02-19T09:20:10.545197",
     "status": "completed"
    },
    "tags": []
   },
   "outputs": [
    {
     "data": {
      "text/html": [
       "<div>\n",
       "<style scoped>\n",
       "    .dataframe tbody tr th:only-of-type {\n",
       "        vertical-align: middle;\n",
       "    }\n",
       "\n",
       "    .dataframe tbody tr th {\n",
       "        vertical-align: top;\n",
       "    }\n",
       "\n",
       "    .dataframe thead th {\n",
       "        text-align: right;\n",
       "    }\n",
       "</style>\n",
       "<table border=\"1\" class=\"dataframe\">\n",
       "  <thead>\n",
       "    <tr style=\"text-align: right;\">\n",
       "      <th></th>\n",
       "      <th>step</th>\n",
       "      <th>type</th>\n",
       "      <th>amount</th>\n",
       "      <th>nameOrig</th>\n",
       "      <th>oldbalanceOrg</th>\n",
       "      <th>newbalanceOrig</th>\n",
       "      <th>nameDest</th>\n",
       "      <th>oldbalanceDest</th>\n",
       "      <th>newbalanceDest</th>\n",
       "      <th>isFraud</th>\n",
       "      <th>isFlaggedFraud</th>\n",
       "    </tr>\n",
       "  </thead>\n",
       "  <tbody>\n",
       "    <tr>\n",
       "      <th>0</th>\n",
       "      <td>1</td>\n",
       "      <td>PAYMENT</td>\n",
       "      <td>9839.64</td>\n",
       "      <td>C1231006815</td>\n",
       "      <td>170136.0</td>\n",
       "      <td>160296.36</td>\n",
       "      <td>M1979787155</td>\n",
       "      <td>0.0</td>\n",
       "      <td>0.0</td>\n",
       "      <td>0</td>\n",
       "      <td>0</td>\n",
       "    </tr>\n",
       "    <tr>\n",
       "      <th>1</th>\n",
       "      <td>1</td>\n",
       "      <td>PAYMENT</td>\n",
       "      <td>1864.28</td>\n",
       "      <td>C1666544295</td>\n",
       "      <td>21249.0</td>\n",
       "      <td>19384.72</td>\n",
       "      <td>M2044282225</td>\n",
       "      <td>0.0</td>\n",
       "      <td>0.0</td>\n",
       "      <td>0</td>\n",
       "      <td>0</td>\n",
       "    </tr>\n",
       "    <tr>\n",
       "      <th>2</th>\n",
       "      <td>1</td>\n",
       "      <td>TRANSFER</td>\n",
       "      <td>181.00</td>\n",
       "      <td>C1305486145</td>\n",
       "      <td>181.0</td>\n",
       "      <td>0.00</td>\n",
       "      <td>C553264065</td>\n",
       "      <td>0.0</td>\n",
       "      <td>0.0</td>\n",
       "      <td>1</td>\n",
       "      <td>0</td>\n",
       "    </tr>\n",
       "    <tr>\n",
       "      <th>3</th>\n",
       "      <td>1</td>\n",
       "      <td>CASH_OUT</td>\n",
       "      <td>181.00</td>\n",
       "      <td>C840083671</td>\n",
       "      <td>181.0</td>\n",
       "      <td>0.00</td>\n",
       "      <td>C38997010</td>\n",
       "      <td>21182.0</td>\n",
       "      <td>0.0</td>\n",
       "      <td>1</td>\n",
       "      <td>0</td>\n",
       "    </tr>\n",
       "    <tr>\n",
       "      <th>4</th>\n",
       "      <td>1</td>\n",
       "      <td>PAYMENT</td>\n",
       "      <td>11668.14</td>\n",
       "      <td>C2048537720</td>\n",
       "      <td>41554.0</td>\n",
       "      <td>29885.86</td>\n",
       "      <td>M1230701703</td>\n",
       "      <td>0.0</td>\n",
       "      <td>0.0</td>\n",
       "      <td>0</td>\n",
       "      <td>0</td>\n",
       "    </tr>\n",
       "  </tbody>\n",
       "</table>\n",
       "</div>"
      ],
      "text/plain": [
       "   step      type    amount     nameOrig  oldbalanceOrg  newbalanceOrig  \\\n",
       "0     1   PAYMENT   9839.64  C1231006815       170136.0       160296.36   \n",
       "1     1   PAYMENT   1864.28  C1666544295        21249.0        19384.72   \n",
       "2     1  TRANSFER    181.00  C1305486145          181.0            0.00   \n",
       "3     1  CASH_OUT    181.00   C840083671          181.0            0.00   \n",
       "4     1   PAYMENT  11668.14  C2048537720        41554.0        29885.86   \n",
       "\n",
       "      nameDest  oldbalanceDest  newbalanceDest  isFraud  isFlaggedFraud  \n",
       "0  M1979787155             0.0             0.0        0               0  \n",
       "1  M2044282225             0.0             0.0        0               0  \n",
       "2   C553264065             0.0             0.0        1               0  \n",
       "3    C38997010         21182.0             0.0        1               0  \n",
       "4  M1230701703             0.0             0.0        0               0  "
      ]
     },
     "execution_count": 9,
     "metadata": {},
     "output_type": "execute_result"
    }
   ],
   "source": [
    "df.head()"
   ]
  },
  {
   "cell_type": "code",
   "execution_count": 10,
   "id": "48922868",
   "metadata": {
    "execution": {
     "iopub.execute_input": "2025-02-19T09:20:10.588798Z",
     "iopub.status.busy": "2025-02-19T09:20:10.588431Z",
     "iopub.status.idle": "2025-02-19T09:20:11.373423Z",
     "shell.execute_reply": "2025-02-19T09:20:11.372312Z"
    },
    "papermill": {
     "duration": 0.795901,
     "end_time": "2025-02-19T09:20:11.375275",
     "exception": false,
     "start_time": "2025-02-19T09:20:10.579374",
     "status": "completed"
    },
    "tags": []
   },
   "outputs": [
    {
     "data": {
      "image/png": "[encoded data removed]",
      "text/plain": [
       "<Figure size 600x400 with 1 Axes>"
      ]
     },
     "metadata": {},
     "output_type": "display_data"
    }
   ],
   "source": [
    "# creating bar chart for transaction type\n",
    "\n",
    "plt.figure(figsize = (6,4))\n",
    "df['type'].value_counts().plot(kind = 'bar')\n",
    "plt.title('Type of transaction')\n",
    "plt.xlabel('Type')\n",
    "plt.ylabel('Count')\n",
    "plt.xticks(rotation = 0)\n",
    "plt.show()"
   ]
  },
  {
   "cell_type": "code",
   "execution_count": 11,
   "id": "cc52d801",
   "metadata": {
    "execution": {
     "iopub.execute_input": "2025-02-19T09:20:11.394767Z",
     "iopub.status.busy": "2025-02-19T09:20:11.394387Z",
     "iopub.status.idle": "2025-02-19T09:20:13.972922Z",
     "shell.execute_reply": "2025-02-19T09:20:13.971857Z"
    },
    "papermill": {
     "duration": 2.590403,
     "end_time": "2025-02-19T09:20:13.974771",
     "exception": false,
     "start_time": "2025-02-19T09:20:11.384368",
     "status": "completed"
    },
    "tags": []
   },
   "outputs": [
    {
     "data": {
      "image/png": "[encoded data removed]",
      "text/plain": [
       "<Figure size 600x400 with 1 Axes>"
      ]
     },
     "metadata": {},
     "output_type": "display_data"
    }
   ],
   "source": [
    "plt.figure(figsize = (6,4))\n",
    "df['amount'].value_counts().sort_values(ascending = False).head().plot(kind = 'bar')\n",
    "plt.title('Amount wise transaction')\n",
    "plt.xlabel('Amount')\n",
    "plt.ylabel('Count')\n",
    "plt.xticks(rotation = 0)\n",
    "plt.show()"
   ]
  },
  {
   "cell_type": "code",
   "execution_count": 12,
   "id": "dfd73d38",
   "metadata": {
    "execution": {
     "iopub.execute_input": "2025-02-19T09:20:13.994426Z",
     "iopub.status.busy": "2025-02-19T09:20:13.994026Z",
     "iopub.status.idle": "2025-02-19T09:20:15.363236Z",
     "shell.execute_reply": "2025-02-19T09:20:15.361966Z"
    },
    "papermill": {
     "duration": 1.381009,
     "end_time": "2025-02-19T09:20:15.365051",
     "exception": false,
     "start_time": "2025-02-19T09:20:13.984042",
     "status": "completed"
    },
    "tags": []
   },
   "outputs": [
    {
     "data": {
      "text/plain": [
       "type\n",
       "CASH_IN     1399284\n",
       "CASH_OUT    2237500\n",
       "DEBIT         41432\n",
       "PAYMENT     2151495\n",
       "TRANSFER     532909\n",
       "Name: amount, dtype: int64"
      ]
     },
     "execution_count": 12,
     "metadata": {},
     "output_type": "execute_result"
    }
   ],
   "source": [
    "df.groupby('type').count()['amount']"
   ]
  },
  {
   "cell_type": "code",
   "execution_count": 13,
   "id": "c6922d7b",
   "metadata": {
    "execution": {
     "iopub.execute_input": "2025-02-19T09:20:15.384631Z",
     "iopub.status.busy": "2025-02-19T09:20:15.384161Z",
     "iopub.status.idle": "2025-02-19T09:20:16.992745Z",
     "shell.execute_reply": "2025-02-19T09:20:16.991704Z"
    },
    "papermill": {
     "duration": 1.62029,
     "end_time": "2025-02-19T09:20:16.994421",
     "exception": false,
     "start_time": "2025-02-19T09:20:15.374131",
     "status": "completed"
    },
    "tags": []
   },
   "outputs": [
    {
     "data": {
      "image/png": "[encoded data removed]",
      "text/plain": [
       "<Figure size 800x600 with 1 Axes>"
      ]
     },
     "metadata": {},
     "output_type": "display_data"
    }
   ],
   "source": [
    "# creating pie-chart for transaction type\n",
    "\n",
    "type_count = df.groupby('type').count()['amount']\n",
    "plt.figure(figsize = (8,6))\n",
    "plt.pie(type_count, labels = type_count.index, autopct = \"%1.1f%%\")\n",
    "plt.title('Count of each type of transaction')\n",
    "plt.show()"
   ]
  },
  {
   "cell_type": "code",
   "execution_count": 14,
   "id": "af4f7658",
   "metadata": {
    "execution": {
     "iopub.execute_input": "2025-02-19T09:20:17.016233Z",
     "iopub.status.busy": "2025-02-19T09:20:17.015815Z",
     "iopub.status.idle": "2025-02-19T09:20:18.558132Z",
     "shell.execute_reply": "2025-02-19T09:20:18.556833Z"
    },
    "papermill": {
     "duration": 1.555565,
     "end_time": "2025-02-19T09:20:18.560230",
     "exception": false,
     "start_time": "2025-02-19T09:20:17.004665",
     "status": "completed"
    },
    "tags": []
   },
   "outputs": [
    {
     "data": {
      "text/html": [
       "<div>\n",
       "<style scoped>\n",
       "    .dataframe tbody tr th:only-of-type {\n",
       "        vertical-align: middle;\n",
       "    }\n",
       "\n",
       "    .dataframe tbody tr th {\n",
       "        vertical-align: top;\n",
       "    }\n",
       "\n",
       "    .dataframe thead th {\n",
       "        text-align: right;\n",
       "    }\n",
       "</style>\n",
       "<table border=\"1\" class=\"dataframe\">\n",
       "  <thead>\n",
       "    <tr style=\"text-align: right;\">\n",
       "      <th></th>\n",
       "      <th></th>\n",
       "      <th>step</th>\n",
       "      <th>amount</th>\n",
       "      <th>nameOrig</th>\n",
       "      <th>oldbalanceOrg</th>\n",
       "      <th>newbalanceOrig</th>\n",
       "      <th>nameDest</th>\n",
       "      <th>oldbalanceDest</th>\n",
       "      <th>newbalanceDest</th>\n",
       "      <th>isFlaggedFraud</th>\n",
       "    </tr>\n",
       "    <tr>\n",
       "      <th>type</th>\n",
       "      <th>isFraud</th>\n",
       "      <th></th>\n",
       "      <th></th>\n",
       "      <th></th>\n",
       "      <th></th>\n",
       "      <th></th>\n",
       "      <th></th>\n",
       "      <th></th>\n",
       "      <th></th>\n",
       "      <th></th>\n",
       "    </tr>\n",
       "  </thead>\n",
       "  <tbody>\n",
       "    <tr>\n",
       "      <th>CASH_IN</th>\n",
       "      <th>0</th>\n",
       "      <td>1399284</td>\n",
       "      <td>1399284</td>\n",
       "      <td>1399284</td>\n",
       "      <td>1399284</td>\n",
       "      <td>1399284</td>\n",
       "      <td>1399284</td>\n",
       "      <td>1399284</td>\n",
       "      <td>1399284</td>\n",
       "      <td>1399284</td>\n",
       "    </tr>\n",
       "    <tr>\n",
       "      <th rowspan=\"2\" valign=\"top\">CASH_OUT</th>\n",
       "      <th>0</th>\n",
       "      <td>2233384</td>\n",
       "      <td>2233384</td>\n",
       "      <td>2233384</td>\n",
       "      <td>2233384</td>\n",
       "      <td>2233384</td>\n",
       "      <td>2233384</td>\n",
       "      <td>2233384</td>\n",
       "      <td>2233384</td>\n",
       "      <td>2233384</td>\n",
       "    </tr>\n",
       "    <tr>\n",
       "      <th>1</th>\n",
       "      <td>4116</td>\n",
       "      <td>4116</td>\n",
       "      <td>4116</td>\n",
       "      <td>4116</td>\n",
       "      <td>4116</td>\n",
       "      <td>4116</td>\n",
       "      <td>4116</td>\n",
       "      <td>4116</td>\n",
       "      <td>4116</td>\n",
       "    </tr>\n",
       "    <tr>\n",
       "      <th>DEBIT</th>\n",
       "      <th>0</th>\n",
       "      <td>41432</td>\n",
       "      <td>41432</td>\n",
       "      <td>41432</td>\n",
       "      <td>41432</td>\n",
       "      <td>41432</td>\n",
       "      <td>41432</td>\n",
       "      <td>41432</td>\n",
       "      <td>41432</td>\n",
       "      <td>41432</td>\n",
       "    </tr>\n",
       "    <tr>\n",
       "      <th>PAYMENT</th>\n",
       "      <th>0</th>\n",
       "      <td>2151495</td>\n",
       "      <td>2151495</td>\n",
       "      <td>2151495</td>\n",
       "      <td>2151495</td>\n",
       "      <td>2151495</td>\n",
       "      <td>2151495</td>\n",
       "      <td>2151495</td>\n",
       "      <td>2151495</td>\n",
       "      <td>2151495</td>\n",
       "    </tr>\n",
       "    <tr>\n",
       "      <th rowspan=\"2\" valign=\"top\">TRANSFER</th>\n",
       "      <th>0</th>\n",
       "      <td>528812</td>\n",
       "      <td>528812</td>\n",
       "      <td>528812</td>\n",
       "      <td>528812</td>\n",
       "      <td>528812</td>\n",
       "      <td>528812</td>\n",
       "      <td>528812</td>\n",
       "      <td>528812</td>\n",
       "      <td>528812</td>\n",
       "    </tr>\n",
       "    <tr>\n",
       "      <th>1</th>\n",
       "      <td>4097</td>\n",
       "      <td>4097</td>\n",
       "      <td>4097</td>\n",
       "      <td>4097</td>\n",
       "      <td>4097</td>\n",
       "      <td>4097</td>\n",
       "      <td>4097</td>\n",
       "      <td>4097</td>\n",
       "      <td>4097</td>\n",
       "    </tr>\n",
       "  </tbody>\n",
       "</table>\n",
       "</div>"
      ],
      "text/plain": [
       "                     step   amount  nameOrig  oldbalanceOrg  newbalanceOrig  \\\n",
       "type     isFraud                                                              \n",
       "CASH_IN  0        1399284  1399284   1399284        1399284         1399284   \n",
       "CASH_OUT 0        2233384  2233384   2233384        2233384         2233384   \n",
       "         1           4116     4116      4116           4116            4116   \n",
       "DEBIT    0          41432    41432     41432          41432           41432   \n",
       "PAYMENT  0        2151495  2151495   2151495        2151495         2151495   \n",
       "TRANSFER 0         528812   528812    528812         528812          528812   \n",
       "         1           4097     4097      4097           4097            4097   \n",
       "\n",
       "                  nameDest  oldbalanceDest  newbalanceDest  isFlaggedFraud  \n",
       "type     isFraud                                                            \n",
       "CASH_IN  0         1399284         1399284         1399284         1399284  \n",
       "CASH_OUT 0         2233384         2233384         2233384         2233384  \n",
       "         1            4116            4116            4116            4116  \n",
       "DEBIT    0           41432           41432           41432           41432  \n",
       "PAYMENT  0         2151495         2151495         2151495         2151495  \n",
       "TRANSFER 0          528812          528812          528812          528812  \n",
       "         1            4097            4097            4097            4097  "
      ]
     },
     "execution_count": 14,
     "metadata": {},
     "output_type": "execute_result"
    }
   ],
   "source": [
    "df.groupby(['type', 'isFraud']).count()"
   ]
  },
  {
   "cell_type": "markdown",
   "id": "c54b4b77",
   "metadata": {
    "papermill": {
     "duration": 0.010517,
     "end_time": "2025-02-19T09:20:18.581590",
     "exception": false,
     "start_time": "2025-02-19T09:20:18.571073",
     "status": "completed"
    },
    "tags": []
   },
   "source": [
    "# Pearson Correlation Matrix"
   ]
  },
  {
   "cell_type": "code",
   "execution_count": 15,
   "id": "e153949b",
   "metadata": {
    "execution": {
     "iopub.execute_input": "2025-02-19T09:20:18.603755Z",
     "iopub.status.busy": "2025-02-19T09:20:18.603372Z",
     "iopub.status.idle": "2025-02-19T09:20:20.533838Z",
     "shell.execute_reply": "2025-02-19T09:20:20.532698Z"
    },
    "papermill": {
     "duration": 1.943805,
     "end_time": "2025-02-19T09:20:20.535903",
     "exception": false,
     "start_time": "2025-02-19T09:20:18.592098",
     "status": "completed"
    },
    "tags": []
   },
   "outputs": [],
   "source": [
    "# selecting numerical columns\n",
    "\n",
    "numeric_columns = df.select_dtypes(include=['int', 'float']).columns\n",
    "numeric_data = df[numeric_columns]\n",
    "# numeric_data.head()\n",
    "\n",
    "\n",
    "# pearson correlation matrix of the numerical data\n",
    "correlation = numeric_data.corr()"
   ]
  },
  {
   "cell_type": "code",
   "execution_count": 16,
   "id": "42e2eda7",
   "metadata": {
    "execution": {
     "iopub.execute_input": "2025-02-19T09:20:20.559798Z",
     "iopub.status.busy": "2025-02-19T09:20:20.559434Z",
     "iopub.status.idle": "2025-02-19T09:20:20.993425Z",
     "shell.execute_reply": "2025-02-19T09:20:20.992225Z"
    },
    "papermill": {
     "duration": 0.448777,
     "end_time": "2025-02-19T09:20:20.995329",
     "exception": false,
     "start_time": "2025-02-19T09:20:20.546552",
     "status": "completed"
    },
    "tags": []
   },
   "outputs": [
    {
     "data": {
      "image/png": "[encoded data removed]",
      "text/plain": [
       "<Figure size 800x600 with 2 Axes>"
      ]
     },
     "metadata": {},
     "output_type": "display_data"
    }
   ],
   "source": [
    "# creating heat map to show correlation\n",
    "\n",
    "plt.figure(figsize = (8,6))\n",
    "sns.heatmap(correlation, vmin = -1, annot = True, fmt = '.2f')\n",
    "plt.title('Pearson Correlation Matrix', fontsize=14)\n",
    "plt.xticks(rotation = 45)\n",
    "plt.show()"
   ]
  },
  {
   "cell_type": "markdown",
   "id": "f9869e48",
   "metadata": {
    "papermill": {
     "duration": 0.012113,
     "end_time": "2025-02-19T09:20:21.020951",
     "exception": false,
     "start_time": "2025-02-19T09:20:21.008838",
     "status": "completed"
    },
    "tags": []
   },
   "source": [
    "# Implemention of machine learning algorithm"
   ]
  },
  {
   "cell_type": "code",
   "execution_count": 17,
   "id": "6685bc7f",
   "metadata": {
    "execution": {
     "iopub.execute_input": "2025-02-19T09:20:21.046446Z",
     "iopub.status.busy": "2025-02-19T09:20:21.045973Z",
     "iopub.status.idle": "2025-02-19T09:20:21.375969Z",
     "shell.execute_reply": "2025-02-19T09:20:21.374813Z"
    },
    "papermill": {
     "duration": 0.345105,
     "end_time": "2025-02-19T09:20:21.377997",
     "exception": false,
     "start_time": "2025-02-19T09:20:21.032892",
     "status": "completed"
    },
    "tags": []
   },
   "outputs": [],
   "source": [
    "# selecting columns necessary for the data modeling\n",
    "df.drop(['oldbalanceOrg','newbalanceOrig','oldbalanceDest','newbalanceDest'], axis = 1, inplace = True)"
   ]
  },
  {
   "cell_type": "code",
   "execution_count": 18,
   "id": "071ef0e1",
   "metadata": {
    "execution": {
     "iopub.execute_input": "2025-02-19T09:20:21.403283Z",
     "iopub.status.busy": "2025-02-19T09:20:21.402918Z",
     "iopub.status.idle": "2025-02-19T09:20:21.671060Z",
     "shell.execute_reply": "2025-02-19T09:20:21.670102Z"
    },
    "papermill": {
     "duration": 0.282911,
     "end_time": "2025-02-19T09:20:21.672917",
     "exception": false,
     "start_time": "2025-02-19T09:20:21.390006",
     "status": "completed"
    },
    "tags": []
   },
   "outputs": [],
   "source": [
    "# nameDest and nameOrig can also be removed\n",
    "df.drop(['nameOrig', 'nameDest'], axis = 1, inplace = True)"
   ]
  },
  {
   "cell_type": "code",
   "execution_count": 19,
   "id": "40a10466",
   "metadata": {
    "execution": {
     "iopub.execute_input": "2025-02-19T09:20:21.697904Z",
     "iopub.status.busy": "2025-02-19T09:20:21.697580Z",
     "iopub.status.idle": "2025-02-19T09:20:21.707599Z",
     "shell.execute_reply": "2025-02-19T09:20:21.706568Z"
    },
    "papermill": {
     "duration": 0.024199,
     "end_time": "2025-02-19T09:20:21.709179",
     "exception": false,
     "start_time": "2025-02-19T09:20:21.684980",
     "status": "completed"
    },
    "tags": []
   },
   "outputs": [
    {
     "data": {
      "text/html": [
       "<div>\n",
       "<style scoped>\n",
       "    .dataframe tbody tr th:only-of-type {\n",
       "        vertical-align: middle;\n",
       "    }\n",
       "\n",
       "    .dataframe tbody tr th {\n",
       "        vertical-align: top;\n",
       "    }\n",
       "\n",
       "    .dataframe thead th {\n",
       "        text-align: right;\n",
       "    }\n",
       "</style>\n",
       "<table border=\"1\" class=\"dataframe\">\n",
       "  <thead>\n",
       "    <tr style=\"text-align: right;\">\n",
       "      <th></th>\n",
       "      <th>step</th>\n",
       "      <th>type</th>\n",
       "      <th>amount</th>\n",
       "      <th>isFraud</th>\n",
       "      <th>isFlaggedFraud</th>\n",
       "    </tr>\n",
       "  </thead>\n",
       "  <tbody>\n",
       "    <tr>\n",
       "      <th>0</th>\n",
       "      <td>1</td>\n",
       "      <td>PAYMENT</td>\n",
       "      <td>9839.64</td>\n",
       "      <td>0</td>\n",
       "      <td>0</td>\n",
       "    </tr>\n",
       "    <tr>\n",
       "      <th>1</th>\n",
       "      <td>1</td>\n",
       "      <td>PAYMENT</td>\n",
       "      <td>1864.28</td>\n",
       "      <td>0</td>\n",
       "      <td>0</td>\n",
       "    </tr>\n",
       "    <tr>\n",
       "      <th>2</th>\n",
       "      <td>1</td>\n",
       "      <td>TRANSFER</td>\n",
       "      <td>181.00</td>\n",
       "      <td>1</td>\n",
       "      <td>0</td>\n",
       "    </tr>\n",
       "    <tr>\n",
       "      <th>3</th>\n",
       "      <td>1</td>\n",
       "      <td>CASH_OUT</td>\n",
       "      <td>181.00</td>\n",
       "      <td>1</td>\n",
       "      <td>0</td>\n",
       "    </tr>\n",
       "    <tr>\n",
       "      <th>4</th>\n",
       "      <td>1</td>\n",
       "      <td>PAYMENT</td>\n",
       "      <td>11668.14</td>\n",
       "      <td>0</td>\n",
       "      <td>0</td>\n",
       "    </tr>\n",
       "  </tbody>\n",
       "</table>\n",
       "</div>"
      ],
      "text/plain": [
       "   step      type    amount  isFraud  isFlaggedFraud\n",
       "0     1   PAYMENT   9839.64        0               0\n",
       "1     1   PAYMENT   1864.28        0               0\n",
       "2     1  TRANSFER    181.00        1               0\n",
       "3     1  CASH_OUT    181.00        1               0\n",
       "4     1   PAYMENT  11668.14        0               0"
      ]
     },
     "execution_count": 19,
     "metadata": {},
     "output_type": "execute_result"
    }
   ],
   "source": [
    "df.head()"
   ]
  },
  {
   "cell_type": "code",
   "execution_count": 20,
   "id": "56cb947b",
   "metadata": {
    "execution": {
     "iopub.execute_input": "2025-02-19T09:20:21.734040Z",
     "iopub.status.busy": "2025-02-19T09:20:21.733653Z",
     "iopub.status.idle": "2025-02-19T09:20:23.058126Z",
     "shell.execute_reply": "2025-02-19T09:20:23.056882Z"
    },
    "papermill": {
     "duration": 1.338997,
     "end_time": "2025-02-19T09:20:23.060068",
     "exception": false,
     "start_time": "2025-02-19T09:20:21.721071",
     "status": "completed"
    },
    "tags": []
   },
   "outputs": [],
   "source": [
    "# encoding the categorical column into numerical data\n",
    "le = LabelEncoder()\n",
    "df['type'] = le.fit_transform(df['type'])"
   ]
  },
  {
   "cell_type": "code",
   "execution_count": 21,
   "id": "dc1f55aa",
   "metadata": {
    "execution": {
     "iopub.execute_input": "2025-02-19T09:20:23.086168Z",
     "iopub.status.busy": "2025-02-19T09:20:23.085683Z",
     "iopub.status.idle": "2025-02-19T09:20:23.189724Z",
     "shell.execute_reply": "2025-02-19T09:20:23.188551Z"
    },
    "papermill": {
     "duration": 0.119118,
     "end_time": "2025-02-19T09:20:23.191638",
     "exception": false,
     "start_time": "2025-02-19T09:20:23.072520",
     "status": "completed"
    },
    "tags": []
   },
   "outputs": [],
   "source": [
    "# separating feature variables and class variables\n",
    "X = df.drop('isFraud', axis = 1)\n",
    "y = df['isFraud']"
   ]
  },
  {
   "cell_type": "code",
   "execution_count": 22,
   "id": "da4a11b6",
   "metadata": {
    "execution": {
     "iopub.execute_input": "2025-02-19T09:20:23.217226Z",
     "iopub.status.busy": "2025-02-19T09:20:23.216794Z",
     "iopub.status.idle": "2025-02-19T09:20:23.759492Z",
     "shell.execute_reply": "2025-02-19T09:20:23.758459Z"
    },
    "papermill": {
     "duration": 0.557354,
     "end_time": "2025-02-19T09:20:23.761233",
     "exception": false,
     "start_time": "2025-02-19T09:20:23.203879",
     "status": "completed"
    },
    "tags": []
   },
   "outputs": [],
   "source": [
    "# standardizing the data\n",
    "sc = StandardScaler()\n",
    "X = sc.fit_transform(X)"
   ]
  },
  {
   "cell_type": "code",
   "execution_count": 23,
   "id": "8190626d",
   "metadata": {
    "execution": {
     "iopub.execute_input": "2025-02-19T09:20:23.787001Z",
     "iopub.status.busy": "2025-02-19T09:20:23.786673Z",
     "iopub.status.idle": "2025-02-19T09:20:24.917568Z",
     "shell.execute_reply": "2025-02-19T09:20:24.916514Z"
    },
    "papermill": {
     "duration": 1.145736,
     "end_time": "2025-02-19T09:20:24.919279",
     "exception": false,
     "start_time": "2025-02-19T09:20:23.773543",
     "status": "completed"
    },
    "tags": []
   },
   "outputs": [],
   "source": [
    "# splitting the data into training and testing set\n",
    "X_train, X_test, y_train, y_test = train_test_split(X,y, test_size = 0.3, random_state = 42)"
   ]
  },
  {
   "cell_type": "markdown",
   "id": "4ebd14d3",
   "metadata": {
    "papermill": {
     "duration": 0.011344,
     "end_time": "2025-02-19T09:20:24.942616",
     "exception": false,
     "start_time": "2025-02-19T09:20:24.931272",
     "status": "completed"
    },
    "tags": []
   },
   "source": [
    "### Logistic Regression"
   ]
  },
  {
   "cell_type": "code",
   "execution_count": 24,
   "id": "e2ad537d",
   "metadata": {
    "execution": {
     "iopub.execute_input": "2025-02-19T09:20:24.967771Z",
     "iopub.status.busy": "2025-02-19T09:20:24.967425Z",
     "iopub.status.idle": "2025-02-19T09:20:28.658723Z",
     "shell.execute_reply": "2025-02-19T09:20:28.657561Z"
    },
    "papermill": {
     "duration": 3.706186,
     "end_time": "2025-02-19T09:20:28.660801",
     "exception": false,
     "start_time": "2025-02-19T09:20:24.954615",
     "status": "completed"
    },
    "tags": []
   },
   "outputs": [
    {
     "data": {
      "text/html": [
       "<style>#sk-container-id-1 {color: black;background-color: white;}#sk-container-id-1 pre{padding: 0;}#sk-container-id-1 div.sk-toggleable {background-color: white;}#sk-container-id-1 label.sk-toggleable__label {cursor: pointer;display: block;width: 100%;margin-bottom: 0;padding: 0.3em;box-sizing: border-box;text-align: center;}#sk-container-id-1 label.sk-toggleable__label-arrow:before {content: \"▸\";float: left;margin-right: 0.25em;color: #696969;}#sk-container-id-1 label.sk-toggleable__label-arrow:hover:before {color: black;}#sk-container-id-1 div.sk-estimator:hover label.sk-toggleable__label-arrow:before {color: black;}#sk-container-id-1 div.sk-toggleable__content {max-height: 0;max-width: 0;overflow: hidden;text-align: left;background-color: #f0f8ff;}#sk-container-id-1 div.sk-toggleable__content pre {margin: 0.2em;color: black;border-radius: 0.25em;background-color: #f0f8ff;}#sk-container-id-1 input.sk-toggleable__control:checked~div.sk-toggleable__content {max-height: 200px;max-width: 100%;overflow: auto;}#sk-container-id-1 input.sk-toggleable__control:checked~label.sk-toggleable__label-arrow:before {content: \"▾\";}#sk-container-id-1 div.sk-estimator input.sk-toggleable__control:checked~label.sk-toggleable__label {background-color: #d4ebff;}#sk-container-id-1 div.sk-label input.sk-toggleable__control:checked~label.sk-toggleable__label {background-color: #d4ebff;}#sk-container-id-1 input.sk-hidden--visually {border: 0;clip: rect(1px 1px 1px 1px);clip: rect(1px, 1px, 1px, 1px);height: 1px;margin: -1px;overflow: hidden;padding: 0;position: absolute;width: 1px;}#sk-container-id-1 div.sk-estimator {font-family: monospace;background-color: #f0f8ff;border: 1px dotted black;border-radius: 0.25em;box-sizing: border-box;margin-bottom: 0.5em;}#sk-container-id-1 div.sk-estimator:hover {background-color: #d4ebff;}#sk-container-id-1 div.sk-parallel-item::after {content: \"\";width: 100%;border-bottom: 1px solid gray;flex-grow: 1;}#sk-container-id-1 div.sk-label:hover label.sk-toggleable__label {background-color: #d4ebff;}#sk-container-id-1 div.sk-serial::before {content: \"\";position: absolute;border-left: 1px solid gray;box-sizing: border-box;top: 0;bottom: 0;left: 50%;z-index: 0;}#sk-container-id-1 div.sk-serial {display: flex;flex-direction: column;align-items: center;background-color: white;padding-right: 0.2em;padding-left: 0.2em;position: relative;}#sk-container-id-1 div.sk-item {position: relative;z-index: 1;}#sk-container-id-1 div.sk-parallel {display: flex;align-items: stretch;justify-content: center;background-color: white;position: relative;}#sk-container-id-1 div.sk-item::before, #sk-container-id-1 div.sk-parallel-item::before {content: \"\";position: absolute;border-left: 1px solid gray;box-sizing: border-box;top: 0;bottom: 0;left: 50%;z-index: -1;}#sk-container-id-1 div.sk-parallel-item {display: flex;flex-direction: column;z-index: 1;position: relative;background-color: white;}#sk-container-id-1 div.sk-parallel-item:first-child::after {align-self: flex-end;width: 50%;}#sk-container-id-1 div.sk-parallel-item:last-child::after {align-self: flex-start;width: 50%;}#sk-container-id-1 div.sk-parallel-item:only-child::after {width: 0;}#sk-container-id-1 div.sk-dashed-wrapped {border: 1px dashed gray;margin: 0 0.4em 0.5em 0.4em;box-sizing: border-box;padding-bottom: 0.4em;background-color: white;}#sk-container-id-1 div.sk-label label {font-family: monospace;font-weight: bold;display: inline-block;line-height: 1.2em;}#sk-container-id-1 div.sk-label-container {text-align: center;}#sk-container-id-1 div.sk-container {/* jupyter's `normalize.less` sets `[hidden] { display: none; }` but bootstrap.min.css set `[hidden] { display: none !important; }` so we also need the `!important` here to be able to override the default hidden behavior on the sphinx rendered scikit-learn.org. See: https://github.com/scikit-learn/scikit-learn/issues/21755 */display: inline-block !important;position: relative;}#sk-container-id-1 div.sk-text-repr-fallback {display: none;}</style><div id=\"sk-container-id-1\" class=\"sk-top-container\"><div class=\"sk-text-repr-fallback\"><pre>LogisticRegression()</pre><b>In a Jupyter environment, please rerun this cell to show the HTML representation or trust the notebook. <br />On GitHub, the HTML representation is unable to render, please try loading this page with nbviewer.org.</b></div><div class=\"sk-container\" hidden><div class=\"sk-item\"><div class=\"sk-estimator sk-toggleable\"><input class=\"sk-toggleable__control sk-hidden--visually\" id=\"sk-estimator-id-1\" type=\"checkbox\" checked><label for=\"sk-estimator-id-1\" class=\"sk-toggleable__label sk-toggleable__label-arrow\">LogisticRegression</label><div class=\"sk-toggleable__content\"><pre>LogisticRegression()</pre></div></div></div></div></div>"
      ],
      "text/plain": [
       "LogisticRegression()"
      ]
     },
     "execution_count": 24,
     "metadata": {},
     "output_type": "execute_result"
    }
   ],
   "source": [
    "# make an object of logistic regression\n",
    "lr = LogisticRegression()\n",
    "\n",
    "#fitting the trainig data into lr model\n",
    "lr.fit(X_train, y_train)"
   ]
  },
  {
   "cell_type": "code",
   "execution_count": 25,
   "id": "8f6dc4fd",
   "metadata": {
    "execution": {
     "iopub.execute_input": "2025-02-19T09:20:28.688690Z",
     "iopub.status.busy": "2025-02-19T09:20:28.688167Z",
     "iopub.status.idle": "2025-02-19T09:20:28.732165Z",
     "shell.execute_reply": "2025-02-19T09:20:28.730787Z"
    },
    "papermill": {
     "duration": 0.060289,
     "end_time": "2025-02-19T09:20:28.734428",
     "exception": false,
     "start_time": "2025-02-19T09:20:28.674139",
     "status": "completed"
    },
    "tags": []
   },
   "outputs": [],
   "source": [
    "# testing the model on test data\n",
    "y_pred = lr.predict(X_test)"
   ]
  },
  {
   "cell_type": "code",
   "execution_count": 26,
   "id": "1400e0aa",
   "metadata": {
    "execution": {
     "iopub.execute_input": "2025-02-19T09:20:28.761437Z",
     "iopub.status.busy": "2025-02-19T09:20:28.760936Z",
     "iopub.status.idle": "2025-02-19T09:20:33.700600Z",
     "shell.execute_reply": "2025-02-19T09:20:33.699013Z"
    },
    "papermill": {
     "duration": 4.955825,
     "end_time": "2025-02-19T09:20:33.702831",
     "exception": false,
     "start_time": "2025-02-19T09:20:28.747006",
     "status": "completed"
    },
    "tags": []
   },
   "outputs": [
    {
     "name": "stdout",
     "output_type": "stream",
     "text": [
      "Accuracy of logistic regression 0.9987086032693031\n",
      "Precision of logistic regression 0.1590909090909091\n",
      "Recall of logistic regression 0.002874743326488706\n",
      "Classification Report of logistic regression\n",
      "               precision    recall  f1-score   support\n",
      "\n",
      "           0       1.00      1.00      1.00   1906351\n",
      "           1       0.16      0.00      0.01      2435\n",
      "\n",
      "    accuracy                           1.00   1908786\n",
      "   macro avg       0.58      0.50      0.50   1908786\n",
      "weighted avg       1.00      1.00      1.00   1908786\n",
      "\n"
     ]
    }
   ],
   "source": [
    "# calculating the performance matrix\n",
    "\n",
    "#accuracy of the logistic regression\n",
    "accuracy_lr = accuracy_score(y_test, y_pred)\n",
    "\n",
    "# precision of the logistic regression\n",
    "precision_lr = precision_score(y_test, y_pred)\n",
    "\n",
    "# recall of the logistic regression\n",
    "recall_lr = recall_score(y_test, y_pred)\n",
    "\n",
    "# classification report\n",
    "classification_lr = classification_report(y_test, y_pred)\n",
    "\n",
    "# print the performance matrix\n",
    "print(f\"Accuracy of logistic regression {accuracy_lr}\")\n",
    "print(f\"Precision of logistic regression {precision_lr}\")\n",
    "print(f\"Recall of logistic regression {recall_lr}\")\n",
    "print(f\"Classification Report of logistic regression\\n {classification_lr}\")"
   ]
  },
  {
   "cell_type": "markdown",
   "id": "4e7fba25",
   "metadata": {
    "papermill": {
     "duration": 0.013073,
     "end_time": "2025-02-19T09:20:33.730050",
     "exception": false,
     "start_time": "2025-02-19T09:20:33.716977",
     "status": "completed"
    },
    "tags": []
   },
   "source": [
    "`Summary` - \n",
    "The logistic regression model achieves a very high accuracy of approximately 99.87%. However, its precision and recall for the positive class are notably low, around 15.91% and 0.29%, respectively. This indicates that while the model performs well in predicting negative instances, it struggles to identify positive instances accurately. This suggests the model's limited effectiveness in scenarios where correctly identifying positive cases is critical."
   ]
  },
  {
   "cell_type": "markdown",
   "id": "998ca6c1",
   "metadata": {
    "papermill": {
     "duration": 0.012353,
     "end_time": "2025-02-19T09:20:33.755156",
     "exception": false,
     "start_time": "2025-02-19T09:20:33.742803",
     "status": "completed"
    },
    "tags": []
   },
   "source": [
    "### Decision Tree"
   ]
  },
  {
   "cell_type": "code",
   "execution_count": 27,
   "id": "c575e572",
   "metadata": {
    "execution": {
     "iopub.execute_input": "2025-02-19T09:20:33.782086Z",
     "iopub.status.busy": "2025-02-19T09:20:33.781722Z",
     "iopub.status.idle": "2025-02-19T09:20:58.549881Z",
     "shell.execute_reply": "2025-02-19T09:20:58.548415Z"
    },
    "papermill": {
     "duration": 24.784152,
     "end_time": "2025-02-19T09:20:58.552187",
     "exception": false,
     "start_time": "2025-02-19T09:20:33.768035",
     "status": "completed"
    },
    "tags": []
   },
   "outputs": [],
   "source": [
    "# make an object of logistic regression\n",
    "sv = DecisionTreeClassifier(max_depth = 20)\n",
    "\n",
    "#fitting the trainig data into lr model\n",
    "sv.fit(X_train, y_train)\n",
    "\n",
    "# testing the model on test data\n",
    "y_pred = sv.predict(X_test)"
   ]
  },
  {
   "cell_type": "code",
   "execution_count": 28,
   "id": "a538b605",
   "metadata": {
    "execution": {
     "iopub.execute_input": "2025-02-19T09:20:58.579665Z",
     "iopub.status.busy": "2025-02-19T09:20:58.579246Z",
     "iopub.status.idle": "2025-02-19T09:21:03.311507Z",
     "shell.execute_reply": "2025-02-19T09:21:03.310087Z"
    },
    "papermill": {
     "duration": 4.748026,
     "end_time": "2025-02-19T09:21:03.313489",
     "exception": false,
     "start_time": "2025-02-19T09:20:58.565463",
     "status": "completed"
    },
    "tags": []
   },
   "outputs": [
    {
     "name": "stdout",
     "output_type": "stream",
     "text": [
      "Accuracy of Decision Tree 0.9989799799453685\n",
      "Precision of Decision Tree 0.6657608695652174\n",
      "Recall of Decision Tree 0.4024640657084189\n",
      "Classification Report of Decision Tree\n",
      "               precision    recall  f1-score   support\n",
      "\n",
      "           0       1.00      1.00      1.00   1906351\n",
      "           1       0.67      0.40      0.50      2435\n",
      "\n",
      "    accuracy                           1.00   1908786\n",
      "   macro avg       0.83      0.70      0.75   1908786\n",
      "weighted avg       1.00      1.00      1.00   1908786\n",
      "\n"
     ]
    }
   ],
   "source": [
    "# calculating the performance matrix\n",
    "\n",
    "#accuracy of the logistic regression\n",
    "accuracy_sv = accuracy_score(y_test, y_pred)\n",
    "\n",
    "# precision of the logistic regression\n",
    "precision_sv = precision_score(y_test, y_pred)\n",
    "\n",
    "# recall of the logistic regression\n",
    "recall_sv = recall_score(y_test, y_pred)\n",
    "\n",
    "# classification report\n",
    "classification_sv = classification_report(y_test, y_pred)\n",
    "\n",
    "# print the performance matrix\n",
    "print(f\"Accuracy of Decision Tree {accuracy_sv}\")\n",
    "print(f\"Precision of Decision Tree {precision_sv}\")\n",
    "print(f\"Recall of Decision Tree {recall_sv}\")\n",
    "print(f\"Classification Report of Decision Tree\\n {classification_sv}\")"
   ]
  },
  {
   "cell_type": "markdown",
   "id": "d0165201",
   "metadata": {
    "papermill": {
     "duration": 0.013383,
     "end_time": "2025-02-19T09:21:03.341088",
     "exception": false,
     "start_time": "2025-02-19T09:21:03.327705",
     "status": "completed"
    },
    "tags": []
   },
   "source": [
    "`Summary` - The Decision Tree model demonstrates strong performance with an accuracy of 99.90%. It achieves a precision of 66.21% and recall of 40.08% for the positive class, similar to the logistic regression model. This suggests the Decision Tree model effectively identifies true positives among its positive predictions while capturing 40.08% of actual positive instances. The model maintains a high F1-score of 0.50 for the positive class, indicating balanced precision and recall."
   ]
  },
  {
   "cell_type": "markdown",
   "id": "ab5b7506",
   "metadata": {
    "papermill": {
     "duration": 0.012864,
     "end_time": "2025-02-19T09:21:03.367338",
     "exception": false,
     "start_time": "2025-02-19T09:21:03.354474",
     "status": "completed"
    },
    "tags": []
   },
   "source": [
    "### Comparing the model"
   ]
  },
  {
   "cell_type": "code",
   "execution_count": 29,
   "id": "6f54da05",
   "metadata": {
    "execution": {
     "iopub.execute_input": "2025-02-19T09:21:03.395495Z",
     "iopub.status.busy": "2025-02-19T09:21:03.395081Z",
     "iopub.status.idle": "2025-02-19T09:21:03.406780Z",
     "shell.execute_reply": "2025-02-19T09:21:03.405470Z"
    },
    "papermill": {
     "duration": 0.027636,
     "end_time": "2025-02-19T09:21:03.408601",
     "exception": false,
     "start_time": "2025-02-19T09:21:03.380965",
     "status": "completed"
    },
    "tags": []
   },
   "outputs": [
    {
     "data": {
      "text/html": [
       "<div>\n",
       "<style scoped>\n",
       "    .dataframe tbody tr th:only-of-type {\n",
       "        vertical-align: middle;\n",
       "    }\n",
       "\n",
       "    .dataframe tbody tr th {\n",
       "        vertical-align: top;\n",
       "    }\n",
       "\n",
       "    .dataframe thead th {\n",
       "        text-align: right;\n",
       "    }\n",
       "</style>\n",
       "<table border=\"1\" class=\"dataframe\">\n",
       "  <thead>\n",
       "    <tr style=\"text-align: right;\">\n",
       "      <th></th>\n",
       "      <th>models</th>\n",
       "      <th>accuracy</th>\n",
       "      <th>precision</th>\n",
       "      <th>recall</th>\n",
       "    </tr>\n",
       "  </thead>\n",
       "  <tbody>\n",
       "    <tr>\n",
       "      <th>0</th>\n",
       "      <td>Logistic Regression</td>\n",
       "      <td>0.998709</td>\n",
       "      <td>0.159091</td>\n",
       "      <td>0.002875</td>\n",
       "    </tr>\n",
       "    <tr>\n",
       "      <th>1</th>\n",
       "      <td>Decision Tree</td>\n",
       "      <td>0.998980</td>\n",
       "      <td>0.665761</td>\n",
       "      <td>0.402464</td>\n",
       "    </tr>\n",
       "  </tbody>\n",
       "</table>\n",
       "</div>"
      ],
      "text/plain": [
       "                models  accuracy  precision    recall\n",
       "0  Logistic Regression  0.998709   0.159091  0.002875\n",
       "1        Decision Tree  0.998980   0.665761  0.402464"
      ]
     },
     "execution_count": 29,
     "metadata": {},
     "output_type": "execute_result"
    }
   ],
   "source": [
    "performance_df = pd.DataFrame({\n",
    "    'models' : ['Logistic Regression','Decision Tree'],\n",
    "    'accuracy' : [accuracy_lr, accuracy_sv],\n",
    "    'precision' : [precision_lr, precision_sv],\n",
    "    'recall' : [recall_lr, recall_sv]\n",
    "})\n",
    "performance_df"
   ]
  },
  {
   "cell_type": "code",
   "execution_count": 30,
   "id": "e4d6c9e9",
   "metadata": {
    "execution": {
     "iopub.execute_input": "2025-02-19T09:21:03.437502Z",
     "iopub.status.busy": "2025-02-19T09:21:03.437059Z",
     "iopub.status.idle": "2025-02-19T09:21:03.967464Z",
     "shell.execute_reply": "2025-02-19T09:21:03.966221Z"
    },
    "papermill": {
     "duration": 0.546949,
     "end_time": "2025-02-19T09:21:03.969514",
     "exception": false,
     "start_time": "2025-02-19T09:21:03.422565",
     "status": "completed"
    },
    "tags": []
   },
   "outputs": [
    {
     "data": {
      "image/png": "[encoded data removed]",
      "text/plain": [
       "<Figure size 1200x600 with 3 Axes>"
      ]
     },
     "metadata": {},
     "output_type": "display_data"
    }
   ],
   "source": [
    "# Create a figure and multiple axis objects\n",
    "fig, ax = plt.subplots(1, 3, figsize=(12, 6))  # 1 row, 3 columns\n",
    "\n",
    "metrics = ['accuracy', 'precision', 'recall']\n",
    "\n",
    "for i, metric in enumerate(metrics):\n",
    "    performance_df[metric].plot(kind='bar', ax=ax[i])\n",
    "\n",
    "    # Set the tick labels and rotation\n",
    "    ax[i].set_xticklabels(performance_df['models'],rotation = 0)\n",
    "\n",
    "    # Adding labels\n",
    "    ax[i].set_xlabel('Models')\n",
    "    ax[i].set_ylabel(metric.capitalize())\n",
    "    ax[i].set_title(f'{metric.capitalize()} by Model')\n",
    "\n",
    "plt.tight_layout()\n",
    "plt.show()"
   ]
  },
  {
   "cell_type": "markdown",
   "id": "6c4a2f02",
   "metadata": {
    "papermill": {
     "duration": 0.015455,
     "end_time": "2025-02-19T09:21:04.001148",
     "exception": false,
     "start_time": "2025-02-19T09:21:03.985693",
     "status": "completed"
    },
    "tags": []
   },
   "source": [
    "`Summary` - The Decision Tree model shows the most balanced performance with respect to precision and recall. Logistic Regression performs poorly in correctly identifying positive instances despite its high accuracy."
   ]
  }
 ],
 "metadata": {
  "kaggle": {
   "accelerator": "none",
   "dataSources": [
    {
     "datasetId": 4557717,
     "sourceId": 7786909,
     "sourceType": "datasetVersion"
    }
   ],
   "dockerImageVersionId": 30886,
   "isGpuEnabled": false,
   "isInternetEnabled": false,
   "language": "python",
   "sourceType": "notebook"
  },
  "kernelspec": {
   "display_name": "Python 3",
   "language": "python",
   "name": "python3"
  },
  "language_info": {
   "codemirror_mode": {
    "name": "ipython",
    "version": 3
   },
   "file_extension": ".py",
   "mimetype": "text/x-python",
   "name": "python",
   "nbconvert_exporter": "python",
   "pygments_lexer": "ipython3",
   "version": "3.10.12"
  },
  "papermill": {
   "default_parameters": {},
   "duration": 86.240205,
   "end_time": "2025-02-19T09:21:05.240758",
   "environment_variables": {},
   "exception": null,
   "input_path": "__notebook__.ipynb",
   "output_path": "__notebook__.ipynb",
   "parameters": {},
   "start_time": "2025-02-19T09:19:39.000553",
   "version": "2.6.0"
  }
 },
 "nbformat": 4,
 "nbformat_minor": 5
}
